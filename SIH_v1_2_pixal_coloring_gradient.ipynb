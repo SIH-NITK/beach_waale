{
  "nbformat": 4,
  "nbformat_minor": 0,
  "metadata": {
    "kernelspec": {
      "name": "python3",
      "display_name": "Python 3"
    },
    "language_info": {
      "codemirror_mode": {
        "name": "ipython",
        "version": 3
      },
      "file_extension": ".py",
      "mimetype": "text/x-python",
      "name": "python",
      "nbconvert_exporter": "python",
      "pygments_lexer": "ipython3",
      "version": "3.7.3"
    },
    "colab": {
      "name": "SIH_v1.2_pixal_coloring_gradient.ipynb",
      "provenance": [],
      "collapsed_sections": []
    },
    "accelerator": "GPU"
  },
  "cells": [
    {
      "cell_type": "code",
      "metadata": {
        "id": "v-GavlKEJWsA",
        "colab_type": "code",
        "colab": {}
      },
      "source": [
        "import numpy as np\n",
        "from PIL import Image\n",
        "import matplotlib.pyplot as plt\n",
        "import cv2, os\n",
        "%matplotlib inline"
      ],
      "execution_count": 0,
      "outputs": []
    },
    {
      "cell_type": "code",
      "metadata": {
        "id": "2MhC_CHLJjNE",
        "colab_type": "code",
        "colab": {
          "base_uri": "https://localhost:8080/",
          "height": 122
        },
        "outputId": "427d3437-1f93-41d7-d811-424af7e5f4a8"
      },
      "source": [
        "from google.colab import drive\n",
        "drive.mount('/content/gdrive')"
      ],
      "execution_count": 2,
      "outputs": [
        {
          "output_type": "stream",
          "text": [
            "Go to this URL in a browser: https://accounts.google.com/o/oauth2/auth?client_id=947318989803-6bn6qk8qdgf4n4g3pfee6491hc0brc4i.apps.googleusercontent.com&redirect_uri=urn%3aietf%3awg%3aoauth%3a2.0%3aoob&response_type=code&scope=email%20https%3a%2f%2fwww.googleapis.com%2fauth%2fdocs.test%20https%3a%2f%2fwww.googleapis.com%2fauth%2fdrive%20https%3a%2f%2fwww.googleapis.com%2fauth%2fdrive.photos.readonly%20https%3a%2f%2fwww.googleapis.com%2fauth%2fpeopleapi.readonly\n",
            "\n",
            "Enter your authorization code:\n",
            "··········\n",
            "Mounted at /content/gdrive\n"
          ],
          "name": "stdout"
        }
      ]
    },
    {
      "cell_type": "code",
      "metadata": {
        "id": "Wc66k-qnJWsH",
        "colab_type": "code",
        "colab": {}
      },
      "source": [
        "# image = cv2.imread('/content/gdrive/dataset/Clipped_NDVI/awifs_ndvi_201701_15_1_clipped.tif')\n"
      ],
      "execution_count": 0,
      "outputs": []
    },
    {
      "cell_type": "code",
      "metadata": {
        "id": "rQbjiDmzJWsL",
        "colab_type": "code",
        "colab": {}
      },
      "source": [
        "# image = cv2.cvtColor(image, cv2.COLOR_BGR2RGB)\n"
      ],
      "execution_count": 0,
      "outputs": []
    },
    {
      "cell_type": "code",
      "metadata": {
        "id": "WNZKU-LMJWsO",
        "colab_type": "code",
        "colab": {}
      },
      "source": [
        "# print(image.shape)"
      ],
      "execution_count": 0,
      "outputs": []
    },
    {
      "cell_type": "code",
      "metadata": {
        "id": "jy9enhrYJWsT",
        "colab_type": "code",
        "colab": {}
      },
      "source": [
        "# image_copy = image\n",
        "# for i in range(image.shape[0]):\n",
        "#     for j in range(image.shape[1]):\n",
        "#         avg = 0\n",
        "#         for k in range(image.shape[2]):\n",
        "#             avg += image[i][j][k]\n",
        "#         avg = avg/3\n",
        "#         image_copy[i][j][1] = abs(255-avg)\n",
        "#         image_copy[i][j][0] = 0\n",
        "#         image_copy[i][j][2] = 0\n",
        "    "
      ],
      "execution_count": 0,
      "outputs": []
    },
    {
      "cell_type": "code",
      "metadata": {
        "id": "aPNaFX9SJWsX",
        "colab_type": "code",
        "colab": {}
      },
      "source": [
        " \n",
        "# array = (np.random.rand(2135, 2118)*256).astype(np.uint8)\n",
        " \n",
        "# img = Image.fromarray(image_copy)\n",
        "# img.save('test10.png')"
      ],
      "execution_count": 0,
      "outputs": []
    },
    {
      "cell_type": "markdown",
      "metadata": {
        "id": "Ratvj4HHJWsb",
        "colab_type": "text"
      },
      "source": [
        "### increasing sharpness"
      ]
    },
    {
      "cell_type": "code",
      "metadata": {
        "id": "VoNdcRH7JWsc",
        "colab_type": "code",
        "colab": {}
      },
      "source": [
        "# sharp = [[0,-1,0],[-1,5,-1],[0,-1,0]]\n"
      ],
      "execution_count": 0,
      "outputs": []
    },
    {
      "cell_type": "code",
      "metadata": {
        "id": "DF4xhXvAJWsh",
        "colab_type": "code",
        "colab": {}
      },
      "source": [
        "# sharp_image = image_copy.dot(sharp)\n",
        " \n",
        "# array = (np.random.rand(2135, 2118)*256).astype(np.uint8)\n",
        " \n",
        "# img = Image.fromarray(sharp_image)\n",
        "# img.save('test6.png')"
      ],
      "execution_count": 0,
      "outputs": []
    },
    {
      "cell_type": "code",
      "metadata": {
        "scrolled": false,
        "id": "cxIuDbcqJWsl",
        "colab_type": "code",
        "colab": {}
      },
      "source": [
        "# sharp_image.shape"
      ],
      "execution_count": 0,
      "outputs": []
    },
    {
      "cell_type": "code",
      "metadata": {
        "id": "HyvjSYkDJWso",
        "colab_type": "code",
        "colab": {}
      },
      "source": [
        "# plt.figure(figsize=(25,25))\n",
        "# plt.imshow(sharp_image)\n"
      ],
      "execution_count": 0,
      "outputs": []
    },
    {
      "cell_type": "markdown",
      "metadata": {
        "id": "ir0dDS1rJWss",
        "colab_type": "text"
      },
      "source": [
        "### final function"
      ]
    },
    {
      "cell_type": "code",
      "metadata": {
        "id": "j0Z1fYXEJWst",
        "colab_type": "code",
        "colab": {}
      },
      "source": [
        "def color_pixal(avg,month):\n",
        "    if(month>=1 and month<=3):\n",
        "        if(avg>=60 and avg<=125):\n",
        "            return 1\n",
        "    elif(month==4):\n",
        "        if(avg>=70 and avg<=110):\n",
        "            return 1\n",
        "    elif(month>=5 and month<=7):\n",
        "        if(avg>=15 and avg<=100):\n",
        "            return 1\n",
        "    elif(month>=8 and month<=9):\n",
        "        if(avg>=17 and avg<=120):\n",
        "            return 1\n",
        "    elif(month>=10 and month<=11):\n",
        "        if(avg>=69 and avg<=120):\n",
        "            return 1\n",
        "    elif(month==12):\n",
        "        if(avg>=90 and avg<=150):\n",
        "            return 1\n",
        "    else:\n",
        "        return 0\n",
        "\n",
        "def doeverything(img,month):\n",
        "    harvest = 0\n",
        "    print('month is '+ str(month) )\n",
        "    image_copy = img\n",
        "    for i in range(img.shape[0]):\n",
        "        for j in range(img.shape[1]):\n",
        "            avg = 0\n",
        "            for k in range(img.shape[2]):\n",
        "                avg += img[i][j][k]/3\n",
        "            if(color_pixal(avg,month)):\n",
        "                image_copy[i][j][1] = avg\n",
        "                image_copy[i][j][2] = 0\n",
        "                image_copy[i][j][0] = 0\n",
        "                harvest += 1\n",
        "            else:\n",
        "                image_copy[i][j][1] = 255\n",
        "                image_copy[i][j][2] = 255\n",
        "                image_copy[i][j][0] = 255\n",
        "    return image_copy,harvest\n",
        "                \n",
        "def givemeeverything(location):\n",
        "    image = cv2.imread(location)\n",
        "    image = cv2.cvtColor(image, cv2.COLOR_BGR2RGB)\n",
        "    month = int(location[61:63])\n",
        "    img,harvest = doeverything(image,month)\n",
        "    #original image\n",
        "    # plt.figure(figsize=(20,15))\n",
        "    # plt.imshow(image)\n",
        "    return img,harvest\n",
        "    \n",
        "def plotit(img, name):\n",
        "    array = (np.random.rand(img.shape[0],img.shape[1])*256).astype(np.uint8)\n",
        "    img = Image.fromarray(img)\n",
        "    # plt.figure(figsize=(20,15))\n",
        "    # plt.imshow(img)\n",
        "    img.save(name)\n"
      ],
      "execution_count": 0,
      "outputs": []
    },
    {
      "cell_type": "code",
      "metadata": {
        "id": "l20h-0h3JWsw",
        "colab_type": "code",
        "colab": {
          "base_uri": "https://localhost:8080/",
          "height": 34
        },
        "outputId": "bc3692f1-e974-4952-ca16-91ca2a4fd0bb"
      },
      "source": [
        "img, harvest =  givemeeverything('/content/gdrive/My Drive/dataset/Clipped_NDVI/awifs_ndvi_201707_15_1_clipped.tif')\n",
        "output_name =  '/content/gdrive/My Drive/dataset/201707__' + str(harvest)  + '.png'\n",
        "plotit(img,output_name)"
      ],
      "execution_count": 40,
      "outputs": [
        {
          "output_type": "stream",
          "text": [
            "month is 7\n"
          ],
          "name": "stdout"
        }
      ]
    },
    {
      "cell_type": "code",
      "metadata": {
        "id": "FgJQ48OTJWs0",
        "colab_type": "code",
        "colab": {}
      },
      "source": [
        "# s = '../dataset/Clipped_NDVI/awifs_ndvi_201701_15_1_clipped.tif'\n",
        "# # s[39:41]"
      ],
      "execution_count": 0,
      "outputs": []
    },
    {
      "cell_type": "code",
      "metadata": {
        "id": "w5X-YrWTJWs4",
        "colab_type": "code",
        "colab": {}
      },
      "source": [
        ""
      ],
      "execution_count": 0,
      "outputs": []
    },
    {
      "cell_type": "code",
      "metadata": {
        "id": "QSTnO7MeJWs8",
        "colab_type": "code",
        "colab": {
          "base_uri": "https://localhost:8080/",
          "height": 833
        },
        "outputId": "9f6f9fbc-6701-4415-caab-23208b818486"
      },
      "source": [
        "for name in os.listdir('/content/gdrive/My Drive/dataset/Clipped_NDVI'):\n",
        "    img,harvest =  givemeeverything('/content/gdrive/My Drive/dataset/Clipped_NDVI/' + name) \n",
        "    month = '/content/gdrive/My Drive/dataset/Clipped_NDVI/' + name\n",
        "    output_name = '/content/gdrive/My Drive/dataset/Clipped_NDVI_output/' + month[57:63] + '__' + str(harvest) + '.png'\n",
        "    plotit(img,output_name)"
      ],
      "execution_count": 43,
      "outputs": [
        {
          "output_type": "stream",
          "text": [
            "month is 2\n",
            "month is 4\n",
            "month is 12\n",
            "month is 2\n",
            "month is 5\n",
            "month is 1\n",
            "month is 11\n",
            "month is 6\n",
            "month is 9\n",
            "month is 3\n",
            "month is 4\n",
            "month is 9\n",
            "month is 1\n",
            "month is 10\n",
            "month is 12\n",
            "month is 9\n",
            "month is 3\n",
            "month is 2\n",
            "month is 4\n",
            "month is 7\n",
            "month is 4\n",
            "month is 8\n",
            "month is 11\n",
            "month is 10\n",
            "month is 3\n",
            "month is 10\n",
            "month is 8\n",
            "month is 11\n",
            "month is 9\n",
            "month is 2\n",
            "month is 1\n",
            "month is 6\n",
            "month is 7\n",
            "month is 1\n",
            "month is 11\n",
            "month is 8\n",
            "month is 5\n",
            "month is 7\n",
            "month is 5\n",
            "month is 8\n",
            "month is 10\n",
            "month is 12\n",
            "month is 3\n",
            "month is 7\n",
            "month is 5\n",
            "month is 6\n",
            "month is 6\n",
            "month is 12\n"
          ],
          "name": "stdout"
        }
      ]
    },
    {
      "cell_type": "code",
      "metadata": {
        "id": "RARqGLG1JWs_",
        "colab_type": "code",
        "colab": {
          "base_uri": "https://localhost:8080/",
          "height": 34
        },
        "outputId": "24d92dff-336f-420f-bd7d-f0dcd2fe25d3"
      },
      "source": [
        "print( len (os.listdir('/content/gdrive/My Drive/dataset/Clipped_NDVI') ) )"
      ],
      "execution_count": 41,
      "outputs": [
        {
          "output_type": "stream",
          "text": [
            "48\n"
          ],
          "name": "stdout"
        }
      ]
    },
    {
      "cell_type": "code",
      "metadata": {
        "id": "gB9SSVGTLGIY",
        "colab_type": "code",
        "colab": {
          "base_uri": "https://localhost:8080/",
          "height": 34
        },
        "outputId": "322f14e6-4cfb-411e-f870-e1ff63791b9b"
      },
      "source": [
        "s = '/content/gdrive/My Drive/dataset/Clipped_NDVI/awifs_ndvi_201707_15_1_clipped.tif'\n",
        "s[57:63]"
      ],
      "execution_count": 36,
      "outputs": [
        {
          "output_type": "execute_result",
          "data": {
            "text/plain": [
              "'201707'"
            ]
          },
          "metadata": {
            "tags": []
          },
          "execution_count": 36
        }
      ]
    },
    {
      "cell_type": "code",
      "metadata": {
        "id": "DvtgCwbQNF9c",
        "colab_type": "code",
        "colab": {}
      },
      "source": [
        ""
      ],
      "execution_count": 0,
      "outputs": []
    }
  ]
}