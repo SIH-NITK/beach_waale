{
 "cells": [
  {
   "cell_type": "code",
   "execution_count": 2,
   "metadata": {},
   "outputs": [],
   "source": [
    "import numpy as np\n",
    "from PIL import Image\n",
    "import matplotlib.pyplot as plt\n",
    "import cv2, os"
   ]
  },
  {
   "cell_type": "code",
   "execution_count": 60,
   "metadata": {},
   "outputs": [],
   "source": [
    "image = cv2.imread('../dataset/Clipped_NDVI/awifs_ndvi_201701_15_1_clipped.tif')\n"
   ]
  },
  {
   "cell_type": "code",
   "execution_count": 61,
   "metadata": {},
   "outputs": [],
   "source": [
    "image = cv2.cvtColor(image, cv2.COLOR_BGR2RGB)\n"
   ]
  },
  {
   "cell_type": "code",
   "execution_count": 62,
   "metadata": {},
   "outputs": [
    {
     "name": "stdout",
     "output_type": "stream",
     "text": [
      "(2135, 2118, 3)\n"
     ]
    }
   ],
   "source": [
    "print(image.shape)"
   ]
  },
  {
   "cell_type": "code",
   "execution_count": 65,
   "metadata": {},
   "outputs": [],
   "source": [
    "image_copy = image\n",
    "for i in range(image.shape[0]):\n",
    "    for j in range(image.shape[1]):\n",
    "        avg = 0\n",
    "        for k in range(image.shape[2]):\n",
    "            avg += image[i][j][k]\n",
    "        avg = avg/3\n",
    "        image_copy[i][j][1] = abs(255-avg)\n",
    "        image_copy[i][j][0] = 0\n",
    "        image_copy[i][j][2] = 0\n",
    "    "
   ]
  },
  {
   "cell_type": "code",
   "execution_count": 66,
   "metadata": {},
   "outputs": [],
   "source": [
    " \n",
    "array = (np.random.rand(2135, 2118)*256).astype(np.uint8)\n",
    " \n",
    "img = Image.fromarray(image_copy)\n",
    "img.save('test10.png')"
   ]
  },
  {
   "cell_type": "markdown",
   "metadata": {},
   "source": [
    "### increasing sharpness"
   ]
  },
  {
   "cell_type": "code",
   "execution_count": 53,
   "metadata": {},
   "outputs": [],
   "source": [
    "# sharp = [[0,-1,0],[-1,5,-1],[0,-1,0]]\n"
   ]
  },
  {
   "cell_type": "code",
   "execution_count": 54,
   "metadata": {},
   "outputs": [],
   "source": [
    "# sharp_image = image_copy.dot(sharp)\n",
    " \n",
    "# array = (np.random.rand(2135, 2118)*256).astype(np.uint8)\n",
    " \n",
    "# img = Image.fromarray(sharp_image)\n",
    "# img.save('test6.png')"
   ]
  },
  {
   "cell_type": "code",
   "execution_count": 55,
   "metadata": {
    "scrolled": false
   },
   "outputs": [],
   "source": [
    "# sharp_image.shape"
   ]
  },
  {
   "cell_type": "code",
   "execution_count": 52,
   "metadata": {},
   "outputs": [],
   "source": [
    "# plt.figure(figsize=(25,25))\n",
    "# plt.imshow(sharp_image)\n"
   ]
  },
  {
   "cell_type": "markdown",
   "metadata": {},
   "source": [
    "### final function"
   ]
  },
  {
   "cell_type": "code",
   "execution_count": 67,
   "metadata": {},
   "outputs": [
    {
     "ename": "SyntaxError",
     "evalue": "invalid syntax (<ipython-input-67-b49f1ded6848>, line 20)",
     "output_type": "error",
     "traceback": [
      "\u001b[0;36m  File \u001b[0;32m\"<ipython-input-67-b49f1ded6848>\"\u001b[0;36m, line \u001b[0;32m20\u001b[0m\n\u001b[0;31m    else return 0\u001b[0m\n\u001b[0m              ^\u001b[0m\n\u001b[0;31mSyntaxError\u001b[0m\u001b[0;31m:\u001b[0m invalid syntax\n"
     ]
    }
   ],
   "source": [
    "def color_pixal(avg,month):\n",
    "    if(month>=1 and month<=3):\n",
    "        if(avg>=60 and avg<=125):\n",
    "            return 1\n",
    "    elif(month==4):\n",
    "        if(avg>=70 and avg<=110):\n",
    "            return 1\n",
    "    elif(month>=5 and month<=7):\n",
    "        if(avg>=15 and avg<=100):\n",
    "            return 1\n",
    "    elif(month>=8 and month<=9):\n",
    "        if(avg>=17 and avg<=120):\n",
    "            return 1\n",
    "    elif(month>=10 and month<=11):\n",
    "        if(avg>=69 and avg<=120):\n",
    "            return 1\n",
    "    elif(month==12):\n",
    "        if(avg>=90 and avg<=150):\n",
    "            return 1\n",
    "    else return 0\n",
    "\n",
    "def doeverything(img,month):\n",
    "    image_copy = image\n",
    "    for i in range(image.shape[0]):\n",
    "        for j in range(image.shape[1]):\n",
    "            avg = 0\n",
    "            for k in range(image.shape[2]):\n",
    "                avg += image[i][j][k]/3\n",
    "            if(color_pixal(avg,month)):\n",
    "                image_copy[i][j][1] = 255\n",
    "                image_copy[i][j][2] = 0\n",
    "                image_copy[i][j][0] = 0\n",
    "            else:\n",
    "                image_copy[i][j][1] = 255\n",
    "                image_copy[i][j][2] = 255\n",
    "                image_copy[i][j][0] = 255\n",
    "    return image_copy\n",
    "                \n",
    "def givemeeverything(location):\n",
    "    image = cv2.imread(location)\n",
    "    image = cv2.cvtColor(image, cv2.COLOR_BGR2RGB)\n",
    "    month = int(location[39:41])\n",
    "    img = doeverything(img,month)\n",
    "    return img\n",
    "    \n",
    "def plotit(img):\n",
    "    array = (np.random.rand(2135, 2118)*256).astype(np.uint8)\n",
    "    img = Image.fromarray(img)\n",
    "    img.save('output.png')\n"
   ]
  },
  {
   "cell_type": "code",
   "execution_count": null,
   "metadata": {},
   "outputs": [],
   "source": [
    "givemeeverything('../dataset/Clipped_NDVI/awifs_ndvi_201701_15_1_clipped.tif')"
   ]
  },
  {
   "cell_type": "code",
   "execution_count": 74,
   "metadata": {},
   "outputs": [
    {
     "data": {
      "text/plain": [
       "'01'"
      ]
     },
     "execution_count": 74,
     "metadata": {},
     "output_type": "execute_result"
    }
   ],
   "source": [
    "s = '../dataset/Clipped_NDVI/awifs_ndvi_201701_15_1_clipped.tif'\n",
    "s[39:41]"
   ]
  },
  {
   "cell_type": "code",
   "execution_count": null,
   "metadata": {},
   "outputs": [],
   "source": []
  }
 ],
 "metadata": {
  "kernelspec": {
   "display_name": "Python 3",
   "language": "python",
   "name": "python3"
  },
  "language_info": {
   "codemirror_mode": {
    "name": "ipython",
    "version": 3
   },
   "file_extension": ".py",
   "mimetype": "text/x-python",
   "name": "python",
   "nbconvert_exporter": "python",
   "pygments_lexer": "ipython3",
   "version": "3.7.3"
  }
 },
 "nbformat": 4,
 "nbformat_minor": 2
}
